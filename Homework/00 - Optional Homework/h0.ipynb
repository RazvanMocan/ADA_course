{
 "metadata": {
  "language_info": {
   "codemirror_mode": {
    "name": "ipython",
    "version": 3
   },
   "file_extension": ".py",
   "mimetype": "text/x-python",
   "name": "python",
   "nbconvert_exporter": "python",
   "pygments_lexer": "ipython3",
   "version": "3.8.5-final"
  },
  "orig_nbformat": 2,
  "kernelspec": {
   "name": "python3",
   "display_name": "Python 3"
  }
 },
 "nbformat": 4,
 "nbformat_minor": 2,
 "cells": [
  {
   "cell_type": "code",
   "execution_count": 14,
   "metadata": {
    "tags": []
   },
   "outputs": [
    {
     "output_type": "stream",
     "name": "stdout",
     "text": "[Errno 2] No such file or directory: './Homework'\n/home/razvan/Masters/1st_year/sem1/Applied_Data_analysis/2020/Homework\n/home/razvan/Masters/1st_year/sem1/Applied_Data_analysis/2020/Homework/00 - Optional Homework\n/home/razvan/Masters/1st_year/sem1/Applied_Data_analysis/2020/Homework/00 - Optional Homework\n--2020-09-18 14:50:19--  https://raw.githubusercontent.com/fivethirtyeight/guns-data/master/interactive_data.csv\nResolving raw.githubusercontent.com (raw.githubusercontent.com)...151.101.112.133\nConnecting to raw.githubusercontent.com (raw.githubusercontent.com)|151.101.112.133|:443... connected.\nHTTP request sent, awaiting response... 200 OK\nLength: 34749 (34K) [text/plain]\nSaving to: ‘interactive_data.csv’\n\ninteractive_data.cs 100%[===================>]  33,93K  --.-KB/s    in 0,02s   \n\n2020-09-18 14:50:19 (1,51 MB/s) - ‘interactive_data.csv’ saved [34749/34749]\n\n"
    }
   ],
   "source": [
    "# Get the data\n",
    "%cd ./Homework\n",
    "%cd 00\\ -\\ Optional\\ Homework\n",
    "!wget https://raw.githubusercontent.com/fivethirtyeight/guns-data/master/interactive_data.csv"
   ]
  },
  {
   "cell_type": "code",
   "execution_count": 1,
   "metadata": {},
   "outputs": [],
   "source": [
    "import numpy as np\n",
    "import pandas as pd\n",
    "import matplotlib.pyplot as plt\n",
    "%matplotlib inline"
   ]
  },
  {
   "cell_type": "code",
   "execution_count": 7,
   "metadata": {
    "tags": []
   },
   "outputs": [
    {
     "output_type": "stream",
     "name": "stdout",
     "text": "Unnamed: 0         Intent         Gender            Age  \\\n0             1  None selected  None selected  None selected   \n1             2  None selected  None selected  None selected   \n2             3  None selected  None selected  None selected   \n3             4  None selected  None selected  None selected   \n4             5  None selected  None selected  None selected   \n..          ...            ...            ...            ...   \n535         536        Unknown           Male              5   \n536         537        Unknown           Male              5   \n537         538        Unknown           Male              5   \n538         539        Unknown           Male              5   \n539         540        Unknown           Male              5   \n\n                       Race  Deaths  Population  Rate  \n0             None selected   33599   316299978  10.6  \n1                     White   22079   197369634  11.2  \n2                     Black    7765    38896382  20.0  \n3                  Hispanic    3007    54049078   5.6  \n4    Asian/Pacific Islander     442    16315561   2.7  \n..                      ...     ...         ...   ...  \n535                   White       0           0   NaN  \n536                   Black       0           0   NaN  \n537                Hispanic       0           0   NaN  \n538  Asian/Pacific Islander       0           0   NaN  \n539                   Other       0           0   NaN  \n\n[540 rows x 8 columns]\n"
    }
   ],
   "source": [
    "#Read data\n",
    "GUN_DATA='./Homework/00 - Optional Homework/interactive_data.csv'\n",
    "\n",
    "gun_df = pd.read_csv(GUN_DATA)\n",
    "print(gun_df)"
   ]
  },
  {
   "cell_type": "code",
   "execution_count": null,
   "metadata": {},
   "outputs": [],
   "source": [
    "def nice_bar_plot(xlbl, data, n):\n",
    "    \n",
    "    fig, ax = plt.subplots()\n",
    "    ax.set_title('Our ' + str(n) + ' ' + xlbl, fontsize=15, fontweight='bold')\n",
    "    sns.barplot(data[:n].keys(), data[:n], ax=ax)\n",
    "    locs, labels = plt.xticks()\n",
    "    plt.setp(labels, rotation=90)"
   ]
  },
  {
   "cell_type": "code",
   "execution_count": null,
   "metadata": {},
   "outputs": [],
   "source": [
    "# Nearly two-thirds of gun deaths are suicides.\n"
   ]
  }
 ]
}